{
  "nbformat": 4,
  "nbformat_minor": 0,
  "metadata": {
    "colab": {
      "name": "04-grid-detection.ipynb",
      "provenance": []
    },
    "kernelspec": {
      "name": "python3",
      "display_name": "Python 3"
    },
    "language_info": {
      "name": "python"
    }
  },
  "cells": [
    {
      "cell_type": "code",
      "metadata": {
        "id": "8EBjvdJg9vQe"
      },
      "source": [
        "import cv2\n",
        "import numpy as np\n",
        "import matplotlib.pyplot as plt"
      ],
      "execution_count": null,
      "outputs": []
    },
    {
      "cell_type": "code",
      "metadata": {
        "id": "8iGJE3fb-pfR"
      },
      "source": [
        "flat_chess = cv2.imread('flat_chessboard.png')"
      ],
      "execution_count": null,
      "outputs": []
    },
    {
      "cell_type": "code",
      "metadata": {
        "colab": {
          "base_uri": "https://localhost:8080/",
          "height": 286
        },
        "id": "0xYhTgwI-5FT",
        "outputId": "5edd157f-896a-4c9a-cc7a-ec1a6cedb6fe"
      },
      "source": [
        "plt.imshow(flat_chess)"
      ],
      "execution_count": null,
      "outputs": [
        {
          "output_type": "execute_result",
          "data": {
            "text/plain": [
              "<matplotlib.image.AxesImage at 0x7fbb42bdfd90>"
            ]
          },
          "metadata": {
            "tags": []
          },
          "execution_count": 4
        },
        {
          "output_type": "display_data",
          "data": {
            "image/png": "[encoded data removed]",
            "text/plain": [
              "<Figure size 432x288 with 1 Axes>"
            ]
          },
          "metadata": {
            "tags": [],
            "needs_background": "light"
          }
        }
      ]
    },
    {
      "cell_type": "code",
      "metadata": {
        "id": "XGQ2S6N--8Xp"
      },
      "source": [
        "found, corners = cv2.findChessboardCorners(flat_chess, (7,7))"
      ],
      "execution_count": null,
      "outputs": []
    },
    {
      "cell_type": "code",
      "metadata": {
        "colab": {
          "base_uri": "https://localhost:8080/"
        },
        "id": "BkJ84N55_ReF",
        "outputId": "7c1fb189-0c61-4f2d-e080-1679904765a7"
      },
      "source": [
        "found"
      ],
      "execution_count": null,
      "outputs": [
        {
          "output_type": "execute_result",
          "data": {
            "text/plain": [
              "True"
            ]
          },
          "metadata": {
            "tags": []
          },
          "execution_count": 6
        }
      ]
    },
    {
      "cell_type": "code",
      "metadata": {
        "colab": {
          "base_uri": "https://localhost:8080/"
        },
        "id": "jvVO2spQ_SGq",
        "outputId": "8e6d153b-11c2-4a61-ca55-1db4a9ee7186"
      },
      "source": [
        "cv2.drawChessboardCorners(flat_chess, (7,7), corners, found)"
      ],
      "execution_count": null,
      "outputs": [
        {
          "output_type": "execute_result",
          "data": {
            "text/plain": [
              "array([[[158, 206, 255],\n",
              "        [158, 206, 255],\n",
              "        [158, 206, 255],\n",
              "        ...,\n",
              "        [ 71, 139, 209],\n",
              "        [ 71, 139, 209],\n",
              "        [ 71, 139, 209]],\n",
              "\n",
              "       [[158, 206, 255],\n",
              "        [158, 206, 255],\n",
              "        [158, 206, 255],\n",
              "        ...,\n",
              "        [ 71, 139, 209],\n",
              "        [ 71, 139, 209],\n",
              "        [ 71, 139, 209]],\n",
              "\n",
              "       [[158, 206, 255],\n",
              "        [158, 206, 255],\n",
              "        [158, 206, 255],\n",
              "        ...,\n",
              "        [ 71, 139, 209],\n",
              "        [ 71, 139, 209],\n",
              "        [ 71, 139, 209]],\n",
              "\n",
              "       ...,\n",
              "\n",
              "       [[ 71, 139, 209],\n",
              "        [ 71, 139, 209],\n",
              "        [ 71, 139, 209],\n",
              "        ...,\n",
              "        [158, 206, 255],\n",
              "        [158, 206, 255],\n",
              "        [158, 206, 255]],\n",
              "\n",
              "       [[ 71, 139, 209],\n",
              "        [ 71, 139, 209],\n",
              "        [ 71, 139, 209],\n",
              "        ...,\n",
              "        [158, 206, 255],\n",
              "        [158, 206, 255],\n",
              "        [158, 206, 255]],\n",
              "\n",
              "       [[ 71, 139, 209],\n",
              "        [ 71, 139, 209],\n",
              "        [ 71, 139, 209],\n",
              "        ...,\n",
              "        [158, 206, 255],\n",
              "        [158, 206, 255],\n",
              "        [158, 206, 255]]], dtype=uint8)"
            ]
          },
          "metadata": {
            "tags": []
          },
          "execution_count": 8
        }
      ]
    },
    {
      "cell_type": "code",
      "metadata": {
        "colab": {
          "base_uri": "https://localhost:8080/",
          "height": 286
        },
        "id": "2a8QRjA-_TD-",
        "outputId": "aa3e6bf2-84e4-46f1-c187-a470bd696b49"
      },
      "source": [
        "plt.imshow(flat_chess)"
      ],
      "execution_count": null,
      "outputs": [
        {
          "output_type": "execute_result",
          "data": {
            "text/plain": [
              "<matplotlib.image.AxesImage at 0x7fbb42576cd0>"
            ]
          },
          "metadata": {
            "tags": []
          },
          "execution_count": 9
        },
        {
          "output_type": "display_data",
          "data": {
            "image/png": "[encoded data removed]",
            "text/plain": [
              "<Figure size 432x288 with 1 Axes>"
            ]
          },
          "metadata": {
            "tags": [],
            "needs_background": "light"
          }
        }
      ]
    },
    {
      "cell_type": "code",
      "metadata": {
        "id": "_E6HWS4z_lX6"
      },
      "source": [
        "dots = cv2.imread('dot_grid.png')"
      ],
      "execution_count": null,
      "outputs": []
    },
    {
      "cell_type": "code",
      "metadata": {
        "colab": {
          "base_uri": "https://localhost:8080/",
          "height": 286
        },
        "id": "KJgq3PO3_5QD",
        "outputId": "8a9be0eb-9558-4d8b-8034-ffa3e0328ee9"
      },
      "source": [
        "plt.imshow(dots)"
      ],
      "execution_count": null,
      "outputs": [
        {
          "output_type": "execute_result",
          "data": {
            "text/plain": [
              "<matplotlib.image.AxesImage at 0x7fbb42a1f890>"
            ]
          },
          "metadata": {
            "tags": []
          },
          "execution_count": 11
        },
        {
          "output_type": "display_data",
          "data": {
            "image/png": "[encoded data removed]",
            "text/plain": [
              "<Figure size 432x288 with 1 Axes>"
            ]
          },
          "metadata": {
            "tags": [],
            "needs_background": "light"
          }
        }
      ]
    },
    {
      "cell_type": "code",
      "metadata": {
        "id": "6hsYRQWm_6YU"
      },
      "source": [
        "found, corners = cv2.findCirclesGrid(dots, (10,10), cv2.CALIB_CB_SYMMETRIC_GRID)"
      ],
      "execution_count": null,
      "outputs": []
    },
    {
      "cell_type": "code",
      "metadata": {
        "colab": {
          "base_uri": "https://localhost:8080/"
        },
        "id": "zOxulMGOAIfU",
        "outputId": "4029b4ef-dd45-4a19-dbc5-bfc75a61530d"
      },
      "source": [
        "found"
      ],
      "execution_count": null,
      "outputs": [
        {
          "output_type": "execute_result",
          "data": {
            "text/plain": [
              "True"
            ]
          },
          "metadata": {
            "tags": []
          },
          "execution_count": 14
        }
      ]
    },
    {
      "cell_type": "code",
      "metadata": {
        "colab": {
          "base_uri": "https://localhost:8080/"
        },
        "id": "oYF0annoALPi",
        "outputId": "22315812-a06b-4fe6-a519-f360314b591f"
      },
      "source": [
        "cv2.drawChessboardCorners(dots, (10,10), corners, found)"
      ],
      "execution_count": null,
      "outputs": [
        {
          "output_type": "execute_result",
          "data": {
            "text/plain": [
              "array([[[255, 255, 255],\n",
              "        [255, 255, 255],\n",
              "        [255, 255, 255],\n",
              "        ...,\n",
              "        [255, 255, 255],\n",
              "        [255, 255, 255],\n",
              "        [255, 255, 255]],\n",
              "\n",
              "       [[255, 255, 255],\n",
              "        [255, 255, 255],\n",
              "        [255, 255, 255],\n",
              "        ...,\n",
              "        [255, 255, 255],\n",
              "        [255, 255, 255],\n",
              "        [255, 255, 255]],\n",
              "\n",
              "       [[255, 255, 255],\n",
              "        [255, 255, 255],\n",
              "        [255, 255, 255],\n",
              "        ...,\n",
              "        [255, 255, 255],\n",
              "        [255, 255, 255],\n",
              "        [255, 255, 255]],\n",
              "\n",
              "       ...,\n",
              "\n",
              "       [[255, 255, 255],\n",
              "        [255, 255, 255],\n",
              "        [255, 255, 255],\n",
              "        ...,\n",
              "        [255, 255, 255],\n",
              "        [255, 255, 255],\n",
              "        [255, 255, 255]],\n",
              "\n",
              "       [[255, 255, 255],\n",
              "        [255, 255, 255],\n",
              "        [255, 255, 255],\n",
              "        ...,\n",
              "        [255, 255, 255],\n",
              "        [255, 255, 255],\n",
              "        [255, 255, 255]],\n",
              "\n",
              "       [[255, 255, 255],\n",
              "        [255, 255, 255],\n",
              "        [255, 255, 255],\n",
              "        ...,\n",
              "        [255, 255, 255],\n",
              "        [255, 255, 255],\n",
              "        [255, 255, 255]]], dtype=uint8)"
            ]
          },
          "metadata": {
            "tags": []
          },
          "execution_count": 15
        }
      ]
    },
    {
      "cell_type": "code",
      "metadata": {
        "id": "39XHiWMfATUA"
      },
      "source": [
        "plt.imshow(dots)"
      ],
      "execution_count": null,
      "outputs": []
    },
    {
      "cell_type": "code",
      "metadata": {
        "id": "iCl-ZVEmAVZs"
      },
      "source": [
        ""
      ],
      "execution_count": null,
      "outputs": []
    }
  ]
}